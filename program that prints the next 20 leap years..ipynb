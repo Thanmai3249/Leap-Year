{
 "cells": [
  {
   "cell_type": "code",
   "execution_count": 1,
   "id": "aef2db47",
   "metadata": {},
   "outputs": [
    {
     "name": "stdout",
     "output_type": "stream",
     "text": [
      "2020\n",
      "2024\n",
      "2028\n",
      "2032\n",
      "2036\n",
      "2040\n",
      "2044\n",
      "2048\n",
      "2052\n",
      "2056\n",
      "2060\n",
      "2064\n",
      "2068\n",
      "2072\n",
      "2076\n",
      "2080\n",
      "2084\n",
      "2088\n",
      "2092\n",
      "2096\n",
      "2020\n",
      "2024\n",
      "2028\n",
      "2032\n",
      "2036\n",
      "2040\n",
      "2044\n",
      "2048\n",
      "2052\n",
      "2056\n",
      "2060\n",
      "2064\n",
      "2068\n",
      "2072\n",
      "2076\n",
      "2080\n",
      "2084\n",
      "2088\n",
      "2092\n",
      "2096\n"
     ]
    }
   ],
   "source": [
    "# Input\n",
    "CURRENT_YEAR = 2017\n",
    "NOF_LEAP_YEARS = 20\n",
    "\n",
    "# Functions\n",
    "def is_leap_year(year):\n",
    "    if year % 4 > 0:\n",
    "        return False\n",
    "    elif year % 100 > 0:\n",
    "        return True\n",
    "    elif year % 400 > 0:\n",
    "        return False\n",
    "    else:\n",
    "        return True\n",
    "\n",
    "def print_next_leap_years(current_year, nof_leap_years):\n",
    "    nof_leap_years_found = 0\n",
    "\n",
    "    while nof_leap_years_found < nof_leap_years:\n",
    "        if is_leap_year(current_year):\n",
    "            nof_leap_years_found += 1\n",
    "            print(current_year)\n",
    "\n",
    "        current_year += 1\n",
    "        \n",
    "def print_next_leap_years_with_recursion(current_year, nof_leap_years, nof_leap_years_found = 0):\n",
    "    if is_leap_year(current_year):\n",
    "        nof_leap_years_found += 1\n",
    "        print(current_year)    \n",
    "\n",
    "    if nof_leap_years_found < nof_leap_years:\n",
    "        print_next_leap_years_with_recursion(current_year + 1, nof_leap_years, nof_leap_years_found)\n",
    "\n",
    "# Main\n",
    "print_next_leap_years(CURRENT_YEAR, NOF_LEAP_YEARS)\n",
    "print_next_leap_years_with_recursion(CURRENT_YEAR, NOF_LEAP_YEARS)"
   ]
  },
  {
   "cell_type": "code",
   "execution_count": null,
   "id": "80e409ef",
   "metadata": {},
   "outputs": [],
   "source": []
  }
 ],
 "metadata": {
  "kernelspec": {
   "display_name": "Python 3 (ipykernel)",
   "language": "python",
   "name": "python3"
  },
  "language_info": {
   "codemirror_mode": {
    "name": "ipython",
    "version": 3
   },
   "file_extension": ".py",
   "mimetype": "text/x-python",
   "name": "python",
   "nbconvert_exporter": "python",
   "pygments_lexer": "ipython3",
   "version": "3.9.7"
  }
 },
 "nbformat": 4,
 "nbformat_minor": 5
}
